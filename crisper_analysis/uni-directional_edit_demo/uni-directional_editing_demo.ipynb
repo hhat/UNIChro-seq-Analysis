{
 "cells": [
  {
   "cell_type": "markdown",
   "id": "da73d15b",
   "metadata": {},
   "source": [
    "# UNIChro-seq Uni-directional Analysis"
   ]
  },
  {
   "cell_type": "markdown",
   "id": "c9f39e51",
   "metadata": {},
   "source": [
    "## Prepare Data and scripts"
   ]
  },
  {
   "cell_type": "code",
   "execution_count": 1,
   "id": "04e0b90c",
   "metadata": {},
   "outputs": [
    {
     "name": "stderr",
     "output_type": "stream",
     "text": [
      "Warning message:\n",
      "“ パッケージ ‘tidyr’ はバージョン 4.2.3 の R の下で造られました ”\n",
      "Warning message:\n",
      "“ パッケージ ‘lme4’ はバージョン 4.2.3 の R の下で造られました ”\n",
      "Warning message:\n",
      "“ パッケージ ‘Matrix’ はバージョン 4.2.3 の R の下で造られました ”\n",
      "Warning message:\n",
      "“ パッケージ ‘ggplot2’ はバージョン 4.2.3 の R の下で造られました ”\n"
     ]
    }
   ],
   "source": [
    "setwd(\"/home/ha7477/share/to_imgkono2/umi_scripts_v4\")\n",
    "source(\"uni-directional_analysis.R\")"
   ]
  },
  {
   "cell_type": "markdown",
   "id": "84fc403f",
   "metadata": {},
   "source": [
    "# REF to ALT edit from REF-homo donors\n",
    "\"edited allele\" is REF"
   ]
  },
  {
   "cell_type": "code",
   "execution_count": 2,
   "id": "6cf4a679",
   "metadata": {},
   "outputs": [
    {
     "data": {
      "text/html": [
       "<table class=\"dataframe\">\n",
       "<caption>A data.frame: 5 × 6</caption>\n",
       "<thead>\n",
       "\t<tr><th></th><th scope=col>Donor</th><th scope=col>SNP</th><th scope=col>NON_EDITED_DNA_count</th><th scope=col>EDITED_DNA_count</th><th scope=col>non_edited_atac_count</th><th scope=col>edited_atac_count</th></tr>\n",
       "\t<tr><th></th><th scope=col>&lt;chr&gt;</th><th scope=col>&lt;chr&gt;</th><th scope=col>&lt;int&gt;</th><th scope=col>&lt;int&gt;</th><th scope=col>&lt;int&gt;</th><th scope=col>&lt;int&gt;</th></tr>\n",
       "</thead>\n",
       "<tbody>\n",
       "\t<tr><th scope=row>1</th><td>S01</td><td>rs58107865</td><td>36617</td><td>11783</td><td> 9104</td><td> 5451</td></tr>\n",
       "\t<tr><th scope=row>2</th><td>S02</td><td>rs58107865</td><td>41940</td><td>23141</td><td> 8561</td><td>10115</td></tr>\n",
       "\t<tr><th scope=row>3</th><td>S03</td><td>rs58107865</td><td>84216</td><td>29079</td><td> 9469</td><td> 6184</td></tr>\n",
       "\t<tr><th scope=row>4</th><td>S04</td><td>rs58107865</td><td>45385</td><td>12462</td><td> 3739</td><td> 1871</td></tr>\n",
       "\t<tr><th scope=row>5</th><td>S05</td><td>rs58107865</td><td>37834</td><td> 4828</td><td>11363</td><td> 2365</td></tr>\n",
       "</tbody>\n",
       "</table>\n"
      ],
      "text/latex": [
       "A data.frame: 5 × 6\n",
       "\\begin{tabular}{r|llllll}\n",
       "  & Donor & SNP & NON\\_EDITED\\_DNA\\_count & EDITED\\_DNA\\_count & non\\_edited\\_atac\\_count & edited\\_atac\\_count\\\\\n",
       "  & <chr> & <chr> & <int> & <int> & <int> & <int>\\\\\n",
       "\\hline\n",
       "\t1 & S01 & rs58107865 & 36617 & 11783 &  9104 &  5451\\\\\n",
       "\t2 & S02 & rs58107865 & 41940 & 23141 &  8561 & 10115\\\\\n",
       "\t3 & S03 & rs58107865 & 84216 & 29079 &  9469 &  6184\\\\\n",
       "\t4 & S04 & rs58107865 & 45385 & 12462 &  3739 &  1871\\\\\n",
       "\t5 & S05 & rs58107865 & 37834 &  4828 & 11363 &  2365\\\\\n",
       "\\end{tabular}\n"
      ],
      "text/markdown": [
       "\n",
       "A data.frame: 5 × 6\n",
       "\n",
       "| <!--/--> | Donor &lt;chr&gt; | SNP &lt;chr&gt; | NON_EDITED_DNA_count &lt;int&gt; | EDITED_DNA_count &lt;int&gt; | non_edited_atac_count &lt;int&gt; | edited_atac_count &lt;int&gt; |\n",
       "|---|---|---|---|---|---|---|\n",
       "| 1 | S01 | rs58107865 | 36617 | 11783 |  9104 |  5451 |\n",
       "| 2 | S02 | rs58107865 | 41940 | 23141 |  8561 | 10115 |\n",
       "| 3 | S03 | rs58107865 | 84216 | 29079 |  9469 |  6184 |\n",
       "| 4 | S04 | rs58107865 | 45385 | 12462 |  3739 |  1871 |\n",
       "| 5 | S05 | rs58107865 | 37834 |  4828 | 11363 |  2365 |\n",
       "\n"
      ],
      "text/plain": [
       "  Donor SNP        NON_EDITED_DNA_count EDITED_DNA_count non_edited_atac_count\n",
       "1 S01   rs58107865 36617                11783             9104                \n",
       "2 S02   rs58107865 41940                23141             8561                \n",
       "3 S03   rs58107865 84216                29079             9469                \n",
       "4 S04   rs58107865 45385                12462             3739                \n",
       "5 S05   rs58107865 37834                 4828            11363                \n",
       "  edited_atac_count\n",
       "1  5451            \n",
       "2 10115            \n",
       "3  6184            \n",
       "4  1871            \n",
       "5  2365            "
      ]
     },
     "metadata": {},
     "output_type": "display_data"
    }
   ],
   "source": [
    "input_file1 <- \"input_file_REF_to_ALT.txt\"\n",
    "data1 <- read.table(input_file1, header = TRUE, sep = \"\\t\", stringsAsFactors = FALSE)\n",
    "head(data1)"
   ]
  },
  {
   "cell_type": "code",
   "execution_count": 3,
   "id": "22573095",
   "metadata": {},
   "outputs": [
    {
     "data": {
      "text/html": [
       "<table class=\"dataframe\">\n",
       "<caption>A data.frame: 1 × 4</caption>\n",
       "<thead>\n",
       "\t<tr><th></th><th scope=col>SNP</th><th scope=col>Effect_size</th><th scope=col>SE</th><th scope=col>p_value</th></tr>\n",
       "\t<tr><th></th><th scope=col>&lt;chr&gt;</th><th scope=col>&lt;dbl&gt;</th><th scope=col>&lt;dbl&gt;</th><th scope=col>&lt;dbl&gt;</th></tr>\n",
       "</thead>\n",
       "<tbody>\n",
       "\t<tr><th scope=row>1</th><td>rs58107865</td><td>0.6230684</td><td>0.03909307</td><td>3.447993e-57</td></tr>\n",
       "</tbody>\n",
       "</table>\n"
      ],
      "text/latex": [
       "A data.frame: 1 × 4\n",
       "\\begin{tabular}{r|llll}\n",
       "  & SNP & Effect\\_size & SE & p\\_value\\\\\n",
       "  & <chr> & <dbl> & <dbl> & <dbl>\\\\\n",
       "\\hline\n",
       "\t1 & rs58107865 & 0.6230684 & 0.03909307 & 3.447993e-57\\\\\n",
       "\\end{tabular}\n"
      ],
      "text/markdown": [
       "\n",
       "A data.frame: 1 × 4\n",
       "\n",
       "| <!--/--> | SNP &lt;chr&gt; | Effect_size &lt;dbl&gt; | SE &lt;dbl&gt; | p_value &lt;dbl&gt; |\n",
       "|---|---|---|---|---|\n",
       "| 1 | rs58107865 | 0.6230684 | 0.03909307 | 3.447993e-57 |\n",
       "\n"
      ],
      "text/plain": [
       "  SNP        Effect_size SE         p_value     \n",
       "1 rs58107865 0.6230684   0.03909307 3.447993e-57"
      ]
     },
     "metadata": {},
     "output_type": "display_data"
    }
   ],
   "source": [
    "results1 <- run_analysis(data1)\n",
    "head(results1)"
   ]
  },
  {
   "cell_type": "markdown",
   "id": "2902c7f8",
   "metadata": {},
   "source": [
    "# ALT to REF edit from ALT-homo donors\n",
    "\"edited allele\" is ALT"
   ]
  },
  {
   "cell_type": "code",
   "execution_count": 4,
   "id": "14eecf77",
   "metadata": {},
   "outputs": [
    {
     "data": {
      "text/html": [
       "<table class=\"dataframe\">\n",
       "<caption>A data.frame: 2 × 6</caption>\n",
       "<thead>\n",
       "\t<tr><th></th><th scope=col>Donor</th><th scope=col>SNP</th><th scope=col>NON_EDITED_DNA_count</th><th scope=col>EDITED_DNA_count</th><th scope=col>non_edited_atac_count</th><th scope=col>edited_atac_count</th></tr>\n",
       "\t<tr><th></th><th scope=col>&lt;chr&gt;</th><th scope=col>&lt;chr&gt;</th><th scope=col>&lt;int&gt;</th><th scope=col>&lt;int&gt;</th><th scope=col>&lt;int&gt;</th><th scope=col>&lt;int&gt;</th></tr>\n",
       "</thead>\n",
       "<tbody>\n",
       "\t<tr><th scope=row>1</th><td>S06</td><td>rs58107865</td><td>52671</td><td>5705</td><td>8966</td><td> 966</td></tr>\n",
       "\t<tr><th scope=row>2</th><td>S07</td><td>rs58107865</td><td>46944</td><td>9097</td><td>9178</td><td>1807</td></tr>\n",
       "</tbody>\n",
       "</table>\n"
      ],
      "text/latex": [
       "A data.frame: 2 × 6\n",
       "\\begin{tabular}{r|llllll}\n",
       "  & Donor & SNP & NON\\_EDITED\\_DNA\\_count & EDITED\\_DNA\\_count & non\\_edited\\_atac\\_count & edited\\_atac\\_count\\\\\n",
       "  & <chr> & <chr> & <int> & <int> & <int> & <int>\\\\\n",
       "\\hline\n",
       "\t1 & S06 & rs58107865 & 52671 & 5705 & 8966 &  966\\\\\n",
       "\t2 & S07 & rs58107865 & 46944 & 9097 & 9178 & 1807\\\\\n",
       "\\end{tabular}\n"
      ],
      "text/markdown": [
       "\n",
       "A data.frame: 2 × 6\n",
       "\n",
       "| <!--/--> | Donor &lt;chr&gt; | SNP &lt;chr&gt; | NON_EDITED_DNA_count &lt;int&gt; | EDITED_DNA_count &lt;int&gt; | non_edited_atac_count &lt;int&gt; | edited_atac_count &lt;int&gt; |\n",
       "|---|---|---|---|---|---|---|\n",
       "| 1 | S06 | rs58107865 | 52671 | 5705 | 8966 |  966 |\n",
       "| 2 | S07 | rs58107865 | 46944 | 9097 | 9178 | 1807 |\n",
       "\n"
      ],
      "text/plain": [
       "  Donor SNP        NON_EDITED_DNA_count EDITED_DNA_count non_edited_atac_count\n",
       "1 S06   rs58107865 52671                5705             8966                 \n",
       "2 S07   rs58107865 46944                9097             9178                 \n",
       "  edited_atac_count\n",
       "1  966             \n",
       "2 1807             "
      ]
     },
     "metadata": {},
     "output_type": "display_data"
    }
   ],
   "source": [
    "input_file2 <- \"input_file_ALT_to_REF.txt\"\n",
    "data2 <- read.table(input_file2, header = TRUE, sep = \"\\t\", stringsAsFactors = FALSE)\n",
    "head(data2)"
   ]
  },
  {
   "cell_type": "code",
   "execution_count": 5,
   "id": "14329e10",
   "metadata": {},
   "outputs": [
    {
     "name": "stderr",
     "output_type": "stream",
     "text": [
      "boundary (singular) fit: see help('isSingular')\n",
      "\n"
     ]
    },
    {
     "data": {
      "text/html": [
       "<table class=\"dataframe\">\n",
       "<caption>A data.frame: 1 × 4</caption>\n",
       "<thead>\n",
       "\t<tr><th></th><th scope=col>SNP</th><th scope=col>Effect_size</th><th scope=col>SE</th><th scope=col>p_value</th></tr>\n",
       "\t<tr><th></th><th scope=col>&lt;chr&gt;</th><th scope=col>&lt;dbl&gt;</th><th scope=col>&lt;dbl&gt;</th><th scope=col>&lt;dbl&gt;</th></tr>\n",
       "</thead>\n",
       "<tbody>\n",
       "\t<tr><th scope=row>1</th><td>rs58107865</td><td>0.008075968</td><td>0.02048083</td><td>0.6933459</td></tr>\n",
       "</tbody>\n",
       "</table>\n"
      ],
      "text/latex": [
       "A data.frame: 1 × 4\n",
       "\\begin{tabular}{r|llll}\n",
       "  & SNP & Effect\\_size & SE & p\\_value\\\\\n",
       "  & <chr> & <dbl> & <dbl> & <dbl>\\\\\n",
       "\\hline\n",
       "\t1 & rs58107865 & 0.008075968 & 0.02048083 & 0.6933459\\\\\n",
       "\\end{tabular}\n"
      ],
      "text/markdown": [
       "\n",
       "A data.frame: 1 × 4\n",
       "\n",
       "| <!--/--> | SNP &lt;chr&gt; | Effect_size &lt;dbl&gt; | SE &lt;dbl&gt; | p_value &lt;dbl&gt; |\n",
       "|---|---|---|---|---|\n",
       "| 1 | rs58107865 | 0.008075968 | 0.02048083 | 0.6933459 |\n",
       "\n"
      ],
      "text/plain": [
       "  SNP        Effect_size SE         p_value  \n",
       "1 rs58107865 0.008075968 0.02048083 0.6933459"
      ]
     },
     "metadata": {},
     "output_type": "display_data"
    }
   ],
   "source": [
    "results2 <- run_analysis(data2)\n",
    "head(results2)"
   ]
  },
  {
   "cell_type": "code",
   "execution_count": 6,
   "id": "57e56841",
   "metadata": {},
   "outputs": [
    {
     "data": {
      "text/plain": [
       "R version 4.2.1 (2022-06-23)\n",
       "Platform: x86_64-conda-linux-gnu (64-bit)\n",
       "Running under: Red Hat Enterprise Linux 8.8 (Ootpa)\n",
       "\n",
       "Matrix products: default\n",
       "BLAS/LAPACK: /rshare1/ZETTAI_path_WA_slash_home_KARA/home/ha7477/tools/miniconda3/envs/de/lib/libopenblasp-r0.3.21.so\n",
       "\n",
       "locale:\n",
       " [1] LC_CTYPE=ja_JP.UTF-8       LC_NUMERIC=C              \n",
       " [3] LC_TIME=ja_JP.UTF-8        LC_COLLATE=ja_JP.UTF-8    \n",
       " [5] LC_MONETARY=ja_JP.UTF-8    LC_MESSAGES=ja_JP.UTF-8   \n",
       " [7] LC_PAPER=ja_JP.UTF-8       LC_NAME=C                 \n",
       " [9] LC_ADDRESS=C               LC_TELEPHONE=C            \n",
       "[11] LC_MEASUREMENT=ja_JP.UTF-8 LC_IDENTIFICATION=C       \n",
       "\n",
       "attached base packages:\n",
       "[1] stats     graphics  grDevices utils     datasets  methods   base     \n",
       "\n",
       "other attached packages:\n",
       "[1] ggplot2_3.5.1  lmerTest_3.1-3 lme4_1.1-35.3  Matrix_1.6-5   tidyr_1.3.1   \n",
       "[6] dplyr_1.1.4   \n",
       "\n",
       "loaded via a namespace (and not attached):\n",
       " [1] Rcpp_1.0.12         nloptr_2.0.3        pillar_1.9.0       \n",
       " [4] compiler_4.2.1      base64enc_0.1-3     tools_4.2.1        \n",
       " [7] boot_1.3-30         digest_0.6.36       uuid_1.2-0         \n",
       "[10] gtable_0.3.5        jsonlite_1.8.8      evaluate_0.24.0    \n",
       "[13] lifecycle_1.0.4     tibble_3.2.1        nlme_3.1-160       \n",
       "[16] lattice_0.22-6      pkgconfig_2.0.3     rlang_1.1.4        \n",
       "[19] IRdisplay_1.1       cli_3.6.3           IRkernel_1.3.2     \n",
       "[22] fastmap_1.2.0       withr_3.0.0         repr_1.1.7         \n",
       "[25] generics_0.1.3      vctrs_0.6.5         grid_4.2.1         \n",
       "[28] tidyselect_1.2.1    glue_1.7.0          R6_2.5.1           \n",
       "[31] fansi_1.0.6         minqa_1.2.5         pbdZMQ_0.3-11      \n",
       "[34] purrr_1.0.2         magrittr_2.0.3      scales_1.3.0       \n",
       "[37] htmltools_0.5.8.1   splines_4.2.1       MASS_7.3-60.0.1    \n",
       "[40] colorspace_2.1-0    numDeriv_2016.8-1.1 utf8_1.2.4         \n",
       "[43] munsell_0.5.1       crayon_1.5.3       "
      ]
     },
     "metadata": {},
     "output_type": "display_data"
    }
   ],
   "source": [
    "sessionInfo()"
   ]
  },
  {
   "cell_type": "code",
   "execution_count": null,
   "id": "3f5dd7e4",
   "metadata": {},
   "outputs": [],
   "source": []
  },
  {
   "cell_type": "code",
   "execution_count": null,
   "id": "ef248d00",
   "metadata": {},
   "outputs": [],
   "source": []
  },
  {
   "cell_type": "code",
   "execution_count": null,
   "id": "653ce0e5",
   "metadata": {},
   "outputs": [],
   "source": []
  }
 ],
 "metadata": {
  "kernelspec": {
   "display_name": "R",
   "language": "R",
   "name": "ir"
  },
  "language_info": {
   "codemirror_mode": "r",
   "file_extension": ".r",
   "mimetype": "text/x-r-source",
   "name": "R",
   "pygments_lexer": "r",
   "version": "4.2.1"
  },
  "toc": {
   "base_numbering": 1,
   "nav_menu": {},
   "number_sections": true,
   "sideBar": true,
   "skip_h1_title": false,
   "title_cell": "Table of Contents",
   "title_sidebar": "Contents",
   "toc_cell": false,
   "toc_position": {
    "height": "calc(100% - 180px)",
    "left": "10px",
    "top": "150px",
    "width": "165px"
   },
   "toc_section_display": true,
   "toc_window_display": true
  }
 },
 "nbformat": 4,
 "nbformat_minor": 5
}
